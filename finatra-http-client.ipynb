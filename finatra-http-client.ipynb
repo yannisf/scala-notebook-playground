{
 "cells": [
  {
   "cell_type": "markdown",
   "metadata": {},
   "source": [
    "# Finatra HTTP client"
   ]
  },
  {
   "cell_type": "code",
   "execution_count": null,
   "metadata": {},
   "outputs": [],
   "source": [
    "import $ivy.`com.twitter::finatra-httpclient:19.11.0`"
   ]
  },
  {
   "cell_type": "code",
   "execution_count": null,
   "metadata": {},
   "outputs": [],
   "source": [
    "import com.twitter.finagle._\n",
    "import com.twitter.util._\n",
    "import com.twitter.finagle.http._\n",
    "\n",
    "val wikipedia: Service[Request, Response] = Http.client\n",
    "  .withTransport.tls(\"en.wikipedia.org\")\n",
    "  .newService(\"en.wikipedia.org:443\")\n",
    "\n",
    "val request = Request(Method.Get, \"/w/api.php?action=query&titles=Main%20page&format=json\")   \n",
    "val actionGet = wikipedia.apply(request)\n",
    "\n",
    "val result = Await.result(actionGet)\n",
    "\n",
    "println(result.statusCode)\n",
    "println(result.contentString)"
   ]
  }
 ],
 "metadata": {
  "kernelspec": {
   "display_name": "Scala",
   "language": "scala",
   "name": "scala"
  },
  "language_info": {
   "codemirror_mode": "text/x-scala",
   "file_extension": ".scala",
   "mimetype": "text/x-scala",
   "name": "scala",
   "nbconvert_exporter": "script",
   "version": "2.12.8"
  }
 },
 "nbformat": 4,
 "nbformat_minor": 2
}
